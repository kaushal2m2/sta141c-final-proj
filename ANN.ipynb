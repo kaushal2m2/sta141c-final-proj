{
 "cells": [
  {
   "cell_type": "code",
   "execution_count": 11,
   "id": "b619d40a",
   "metadata": {},
   "outputs": [],
   "source": [
    "# Import libraries and data\n",
    "\n",
    "import pandas as pd\n",
    "import numpy as np\n",
    "from sklearn.model_selection import train_test_split, GridSearchCV, cross_val_score, StratifiedKFold, LeaveOneOut\n",
    "from sklearn.neural_network import MLPClassifier\n",
    "from sklearn.metrics import accuracy_score, precision_score, recall_score, f1_score, confusion_matrix, roc_auc_score\n",
    "from sklearn.preprocessing import StandardScaler\n",
    "import seaborn as sns\n",
    "import matplotlib.pyplot as plt\n",
    "\n",
    "df = pd.read_csv('data/alzheimers.csv', index_col='PatientID')\n",
    "df = df.drop(['DoctorInCharge'], axis=1)"
   ]
  },
  {
   "cell_type": "code",
   "execution_count": 4,
   "id": "7ca96231",
   "metadata": {},
   "outputs": [],
   "source": [
    "# Define function for model comparison\n",
    "\n",
    "def collect_metrics(y_true, y_pred, method_name):\n",
    "    return {\n",
    "        'method': method_name,\n",
    "        'accuracy': accuracy_score(y_true, y_pred),\n",
    "        'precision': precision_score(y_true, y_pred),\n",
    "        'recall': recall_score(y_true, y_pred),\n",
    "        'f1_score': f1_score(y_true, y_pred)\n",
    "    }"
   ]
  },
  {
   "cell_type": "code",
   "execution_count": 5,
   "id": "be9a552e",
   "metadata": {},
   "outputs": [],
   "source": [
    "# Prepare data for model fitting\n",
    "\n",
    "# Assume df is your cleaned DataFrame and 'HeartDisease' is the target\n",
    "X = df.drop('Diagnosis', axis=1)\n",
    "y = df['Diagnosis']\n",
    "\n",
    "# One-hot encoding if needed\n",
    "X = pd.get_dummies(X, drop_first=True)\n",
    "\n",
    "# Feature scaling\n",
    "scaler = StandardScaler()\n",
    "X_scaled = scaler.fit_transform(X)"
   ]
  },
  {
   "cell_type": "code",
   "execution_count": 6,
   "id": "70f3da1c",
   "metadata": {},
   "outputs": [
    {
     "name": "stdout",
     "output_type": "stream",
     "text": [
      "Fitting 5 folds for each of 240 candidates, totalling 1200 fits\n",
      "Best Parameters: {'activation': 'tanh', 'alpha': 0.01, 'hidden_layer_sizes': (50,), 'learning_rate_init': 0.0001, 'max_iter': 5000, 'solver': 'adam'}\n",
      "Best F1 Score: 0.7718699630496527\n"
     ]
    }
   ],
   "source": [
    "# Hyper-parameter tuning using grid search\n",
    "\n",
    "# Define data pipeline and parameter grid\n",
    "param_grid = {\n",
    "    'hidden_layer_sizes': [\n",
    "        (50,), (100,), (150,),\n",
    "        (100, 50), (150, 75),\n",
    "        (100, 50, 25)\n",
    "    ],\n",
    "    'activation': ['relu', 'tanh'],\n",
    "    'alpha': [0.00001, 0.0001, 0.001, 0.01, 0.1],\n",
    "    'solver': ['adam'],\n",
    "    'learning_rate_init': [0.0001, 0.001, 0.01, 0.1],\n",
    "    'max_iter': [5000]\n",
    "}\n",
    "\n",
    "ann = MLPClassifier(random_state=49)\n",
    "\n",
    "grid_search = GridSearchCV(\n",
    "    ann,\n",
    "    param_grid,\n",
    "    cv=5,\n",
    "    scoring='f1',\n",
    "    n_jobs=-1,\n",
    "    verbose=1\n",
    ")\n",
    "\n",
    "grid_search.fit(X, y)\n",
    "\n",
    "# Use best estimator\n",
    "best_ann = grid_search.best_estimator_\n",
    "print(\"Best Parameters:\", grid_search.best_params_)\n",
    "print(\"Best F1 Score:\", grid_search.best_score_)"
   ]
  },
  {
   "cell_type": "code",
   "execution_count": 13,
   "id": "7dec98b5",
   "metadata": {},
   "outputs": [],
   "source": [
    "# Fit model using test train split\n",
    "\n",
    "metrics_list = []\n",
    "\n",
    "X_train, X_test, y_train, y_test = train_test_split(X, y, test_size=0.2, random_state=49)\n",
    "best_ann.fit(X_train, y_train)\n",
    "y_pred = best_ann.predict(X_test)\n",
    "\n",
    "metrics_list.append(collect_metrics(y_test, y_pred, method_name='Train/Test Split'))"
   ]
  },
  {
   "cell_type": "code",
   "execution_count": 14,
   "id": "b721026b",
   "metadata": {},
   "outputs": [],
   "source": [
    "# Fit model using K-fold\n",
    "\n",
    "skf = StratifiedKFold(n_splits=10)\n",
    "y_true_all, y_pred_all = [], []\n",
    "\n",
    "for train_idx, test_idx in skf.split(X, y):\n",
    "    X_train, X_test = X.iloc[train_idx], X.iloc[test_idx]\n",
    "    y_train, y_test = y.iloc[train_idx], y.iloc[test_idx]\n",
    "    \n",
    "    best_ann.fit(X_train, y_train)\n",
    "    y_pred = best_ann.predict(X_test)\n",
    "\n",
    "    y_true_all.extend(y_test)\n",
    "    y_pred_all.extend(y_pred)\n",
    "\n",
    "metrics_list.append(collect_metrics(y_true_all, y_pred_all, method_name='Stratified K-Fold'))"
   ]
  },
  {
   "cell_type": "code",
   "execution_count": null,
   "id": "8b4b09c8",
   "metadata": {},
   "outputs": [
    {
     "name": "stderr",
     "output_type": "stream",
     "text": [
      "C:\\Users\\brien\\AppData\\Local\\Packages\\PythonSoftwareFoundation.Python.3.11_qbz5n2kfra8p0\\LocalCache\\local-packages\\Python311\\site-packages\\sklearn\\neural_network\\_multilayer_perceptron.py:698: UserWarning: Training interrupted by user.\n",
      "  warnings.warn(\"Training interrupted by user.\")\n"
     ]
    },
    {
     "ename": "",
     "evalue": "",
     "output_type": "error",
     "traceback": [
      "\u001b[1;31mCannot execute code, session has been disposed. Please try restarting the Kernel."
     ]
    },
    {
     "ename": "",
     "evalue": "",
     "output_type": "error",
     "traceback": [
      "\u001b[1;31mCannot execute code, session has been disposed. Please try restarting the Kernel. \n",
      "\u001b[1;31mView Jupyter <a href='command:jupyter.viewOutput'>log</a> for further details."
     ]
    }
   ],
   "source": [
    "# This code has been commented out as LOOCV is too costly to run on this data.\n",
    "\n",
    "# Fit model using LOOCV\n",
    "\n",
    "#loo = LeaveOneOut()\n",
    "#y_true_all, y_pred_all = [], []\n",
    "\n",
    "#for train_idx, test_idx in loo.split(X):\n",
    "#    X_train, X_test = X.iloc[train_idx], X.iloc[test_idx]\n",
    "#    y_train, y_test = y.iloc[train_idx], y.iloc[test_idx]\n",
    "#    \n",
    "#    best_ann.fit(X_train, y_train)\n",
    "#    y_pred = best_ann.predict(X_test)\n",
    "#\n",
    "#    y_true_all.append(y_test.values[0])\n",
    "#    y_pred_all.append(y_pred[0])\n",
    "\n",
    "#metrics_list.append(collect_metrics(y_true_all, y_pred_all, method_name='LOOCV'))"
   ]
  },
  {
   "cell_type": "code",
   "execution_count": 9,
   "id": "aab3cc88",
   "metadata": {},
   "outputs": [
    {
     "name": "stdout",
     "output_type": "stream",
     "text": [
      "              method  accuracy  precision    recall  f1_score\n",
      "0   Train/Test Split  0.855814   0.804054  0.782895  0.793333\n",
      "1  Stratified K-Fold  0.844579   0.831776  0.702632  0.761769\n"
     ]
    }
   ],
   "source": [
    "# Compare model performance\n",
    "\n",
    "metrics_df = pd.DataFrame(metrics_list)\n",
    "print(metrics_df)"
   ]
  },
  {
   "cell_type": "code",
   "execution_count": null,
   "id": "388e714d",
   "metadata": {},
   "outputs": [
    {
     "name": "stdout",
     "output_type": "stream",
     "text": [
      "                        Accuracy  Precision    Recall  F1 Score   ROC AUC\n",
      "ANN - Train/Test Split  0.855814   0.804054  0.782895  0.793333  0.923608\n"
     ]
    },
    {
     "data": {
      "image/png": "[encoded data removed]",
      "text/plain": [
       "<Figure size 600x500 with 1 Axes>"
      ]
     },
     "metadata": {},
     "output_type": "display_data"
    }
   ],
   "source": [
    "# Re-fit the test/train model and report performance metrics\n",
    "\n",
    "X_train, X_test, y_train, y_test = train_test_split(X, y, test_size=0.2, random_state=49)\n",
    "best_ann.fit(X_train, y_train)\n",
    "y_pred = best_ann.predict(X_test)\n",
    "\n",
    "# Predict using the trained ANN model from Train/Test Split\n",
    "y_pred = best_ann.predict(X_test)\n",
    "y_proba = best_ann.predict_proba(X_test)[:, 1]  # Needed for ROC AUC\n",
    "\n",
    "# Collect performance metrics\n",
    "metrics = {\n",
    "    'Accuracy': accuracy_score(y_test, y_pred),\n",
    "    'Precision': precision_score(y_test, y_pred),\n",
    "    'Recall': recall_score(y_test, y_pred),\n",
    "    'F1 Score': f1_score(y_test, y_pred),\n",
    "    'ROC AUC': roc_auc_score(y_test, y_proba)\n",
    "}\n",
    "\n",
    "# Convert to DataFrame\n",
    "metrics_df = pd.DataFrame(metrics, index=['ANN - Train/Test Split'])\n",
    "print(metrics_df)\n",
    "\n",
    "# Compute confusion matrix\n",
    "cm = confusion_matrix(y_test, y_pred)\n",
    "labels = ['No Heart Disease', 'Heart Disease']\n",
    "\n",
    "# Plot confusion matrix\n",
    "plt.figure(figsize=(6, 5))\n",
    "sns.heatmap(cm, annot=True, fmt='d', cmap='Blues',\n",
    "            xticklabels=labels, yticklabels=labels, cbar=False)\n",
    "\n",
    "plt.xlabel('Predicted Label')\n",
    "plt.ylabel('True Label')\n",
    "plt.title('Confusion Matrix - ANN Model Performance')\n",
    "plt.tight_layout()\n",
    "plt.show()"
   ]
  },
  {
   "cell_type": "code",
   "execution_count": null,
   "id": "0f91ce7d",
   "metadata": {},
   "outputs": [],
   "source": []
  }
 ],
 "metadata": {
  "kernelspec": {
   "display_name": "Python 3",
   "language": "python",
   "name": "python3"
  },
  "language_info": {
   "codemirror_mode": {
    "name": "ipython",
    "version": 3
   },
   "file_extension": ".py",
   "mimetype": "text/x-python",
   "name": "python",
   "nbconvert_exporter": "python",
   "pygments_lexer": "ipython3",
   "version": "3.11.9"
  }
 },
 "nbformat": 4,
 "nbformat_minor": 5
}
