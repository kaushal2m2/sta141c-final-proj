{
 "cells": [
  {
   "cell_type": "markdown",
   "id": "085fc872",
   "metadata": {},
   "source": [
    "Talk about random forest and how it works. Write specific context about its use cases here with this data."
   ]
  },
  {
   "cell_type": "code",
   "execution_count": 2,
   "id": "df55815c",
   "metadata": {},
   "outputs": [],
   "source": [
    "# Import libraries and data\n",
    "\n",
    "import pandas as pd\n",
    "import numpy as np\n",
    "from sklearn.model_selection import LeaveOneOut, StratifiedKFold, train_test_split, GridSearchCV\n",
    "from sklearn.ensemble import RandomForestClassifier\n",
    "from sklearn.preprocessing import OneHotEncoder\n",
    "from sklearn.compose import ColumnTransformer\n",
    "from sklearn.pipeline import Pipeline\n",
    "from sklearn.metrics import precision_score, recall_score, f1_score, accuracy_score, confusion_matrix, roc_auc_score\n",
    "from sklearn.feature_selection import SelectFromModel\n",
    "import seaborn as sns\n",
    "import matplotlib.pyplot as plt\n"
   ]
  },
  {
   "cell_type": "code",
   "execution_count": 3,
   "id": "f11e8890",
   "metadata": {},
   "outputs": [],
   "source": [
    "df = pd.read_csv('data/train.csv')"
   ]
  },
  {
   "cell_type": "code",
   "execution_count": 4,
   "id": "871536cd",
   "metadata": {},
   "outputs": [],
   "source": [
    "# Define function for model comparison\n",
    "\n",
    "def collect_metrics(y_true, y_pred, method_name):\n",
    "    return {\n",
    "        'method': method_name,\n",
    "        'accuracy': accuracy_score(y_true, y_pred),\n",
    "        'precision': precision_score(y_true, y_pred),\n",
    "        'recall': recall_score(y_true, y_pred),\n",
    "        'f1_score': f1_score(y_true, y_pred)\n",
    "    }"
   ]
  },
  {
   "cell_type": "code",
   "execution_count": 5,
   "id": "0999b6c6",
   "metadata": {},
   "outputs": [],
   "source": [
    "# Prepare data\n",
    "\n",
    "# Seperate into target and predictors\n",
    "X = df.drop('Diagnosis', axis=1)\n",
    "y = df['Diagnosis']\n",
    "\n",
    "# Identify column types\n",
    "categorical_cols = X.select_dtypes(include=['object', 'category']).columns.tolist()\n",
    "numeric_cols = X.select_dtypes(include=['int64', 'float64']).columns.tolist()\n",
    "\n",
    "# Preprocessing and model pipeline\n",
    "preprocessor = ColumnTransformer([\n",
    "    ('cat', OneHotEncoder(handle_unknown='ignore'), categorical_cols),\n",
    "    ('num', 'passthrough', numeric_cols)\n",
    "])\n",
    "clf = Pipeline([\n",
    "    ('preprocessor', preprocessor),\n",
    "    ('feature_selection', SelectFromModel(RandomForestClassifier(random_state=49))),\n",
    "    ('classifier', RandomForestClassifier(random_state=49))\n",
    "])"
   ]
  },
  {
   "cell_type": "markdown",
   "id": "ff03bc37",
   "metadata": {},
   "source": [
    "Write about model hyperparameters, why they are important and how grid search can be used to optimize model fitting."
   ]
  },
  {
   "cell_type": "code",
   "execution_count": null,
   "id": "943daa20",
   "metadata": {},
   "outputs": [
    {
     "name": "stdout",
     "output_type": "stream",
     "text": [
      "Fitting 5 folds for each of 9408 candidates, totalling 47040 fits\n"
     ]
    }
   ],
   "source": [
    "# Perform grid search for optimal hyperparameters and update classifier pipeline\n",
    "\n",
    "# Define hyperparameter grid\n",
    "param_grid = {\n",
    "    'feature_selection__estimator__n_estimators': [100],\n",
    "    'feature_selection__threshold': ['mean', 'median', 0.01],\n",
    "    'classifier__n_estimators': list(range(25, 200, 25)),\n",
    "    'classifier__max_depth': [None] + list(range(5, 20, 5)),\n",
    "    'classifier__min_samples_split': list(range(2, 10)),\n",
    "    'classifier__min_samples_leaf': list(range(1, 15, 2)),\n",
    "    'classifier__max_features': ['sqrt', 'log2']\n",
    "}\n",
    "\n",
    "# Define GridSearchCV parameters\n",
    "grid_search = GridSearchCV(\n",
    "    clf,\n",
    "    param_grid,\n",
    "    cv=5,\n",
    "    scoring='f1',\n",
    "    n_jobs=-1,  # Use all processor cores to speed up grid search\n",
    "    verbose=1\n",
    ")\n",
    "\n",
    "# Fit the grid search\n",
    "grid_search.fit(X, y)\n",
    "\n",
    "# Print the results\n",
    "print(\"Best Parameters:\", grid_search.best_params_)\n",
    "print(\"Best F1 Score:\", grid_search.best_score_)\n",
    "\n",
    "# Update parameters for subsequent model evaluation\n",
    "best_clf = grid_search.best_estimator_\n",
    "clf = best_clf"
   ]
  },
  {
   "cell_type": "code",
   "execution_count": 23,
   "id": "27cc3acb",
   "metadata": {},
   "outputs": [
    {
     "name": "stdout",
     "output_type": "stream",
     "text": [
      "Feature Importances:\n",
      "Gender: 0.2771\n",
      "BMI: 0.2529\n",
      "Age: 0.2176\n",
      "Ethnicity: 0.1500\n",
      "EducationLevel: 0.1023\n"
     ]
    },
    {
     "data": {
      "image/png": "[encoded data removed]",
      "text/plain": [
       "<Figure size 1000x600 with 1 Axes>"
      ]
     },
     "metadata": {},
     "output_type": "display_data"
    }
   ],
   "source": [
    "# Extract the classifier from the pipeline.\n",
    "rf_classifier = clf.named_steps['classifier']\n",
    "\n",
    "# Retrieve the feature importances from the Random Forest model.\n",
    "importances = rf_classifier.feature_importances_\n",
    "indices = np.argsort(importances)[::-1]\n",
    "\n",
    "# Print the feature importances by sorting them in descending order.\n",
    "print(\"Feature Importances:\")\n",
    "for idx in indices:\n",
    "    print(f\"{X.columns[idx]}: {importances[idx]:.4f}\")\n",
    "\n",
    "# Visualize the feature importances using a bar chart.\n",
    "plt.figure(figsize=(10, 6))\n",
    "plt.title(\"Feature Importances from Best Estimator\")\n",
    "plt.bar(range(len(importances)), importances[indices], align=\"center\")\n",
    "plt.xticks(range(len(importances)), X.columns[indices], rotation=90)\n",
    "plt.xlabel(\"Features\")\n",
    "plt.ylabel(\"Importance\")\n",
    "plt.tight_layout()\n",
    "plt.show()"
   ]
  },
  {
   "cell_type": "markdown",
   "id": "214383c9",
   "metadata": {},
   "source": [
    "Talk about cross validation methods and standard test train split and why we use it."
   ]
  },
  {
   "cell_type": "code",
   "execution_count": 24,
   "id": "900ee48e",
   "metadata": {},
   "outputs": [],
   "source": [
    "# Fit random forest model using optimized hyperparameters and test/train split\n",
    "\n",
    "metrics_list = []\n",
    "\n",
    "X_train, X_test, y_train, y_test = train_test_split(X, y, test_size=0.2, random_state=49)\n",
    "clf.fit(X_train, y_train)\n",
    "y_pred = clf.predict(X_test)\n",
    "\n",
    "metrics_list.append(collect_metrics(y_test, y_pred, method_name='Train/Test Split'))"
   ]
  },
  {
   "cell_type": "markdown",
   "id": "c83b22f1",
   "metadata": {},
   "source": [
    "Talk about k fold cross validation, why we use it and why we settled on 10 folds here."
   ]
  },
  {
   "cell_type": "code",
   "execution_count": 25,
   "id": "5bb01f49",
   "metadata": {},
   "outputs": [],
   "source": [
    "# K-Fold\n",
    "\n",
    "kfold = StratifiedKFold(n_splits=10, shuffle=True, random_state=49)\n",
    "y_true_kf = []\n",
    "y_pred_kf = []\n",
    "\n",
    "for train_idx, test_idx in kfold.split(X, y):\n",
    "    clf.fit(X.iloc[train_idx], y.iloc[train_idx])\n",
    "    pred = clf.predict(X.iloc[test_idx])\n",
    "    y_true_kf.extend(y.iloc[test_idx])\n",
    "    y_pred_kf.extend(pred)\n",
    "\n",
    "metrics_list.append(collect_metrics(y_true_kf, y_pred_kf, method_name='Stratified K-Fold'))"
   ]
  },
  {
   "cell_type": "markdown",
   "id": "6fbee88d",
   "metadata": {},
   "source": [
    "Talk about leave one out cross validation and make sure to highlight computational inefficiency."
   ]
  },
  {
   "cell_type": "markdown",
   "id": "afe5c0d4",
   "metadata": {},
   "source": [
    "In the final latex document we will need to make sure we use this data to compare model fits using various methods. Also talk about these metrics and why they matter, plus why we didn't use something else such as AUC-ROC."
   ]
  },
  {
   "cell_type": "code",
   "execution_count": null,
   "id": "e1105ca3",
   "metadata": {},
   "outputs": [
    {
     "name": "stdout",
     "output_type": "stream",
     "text": [
      "              method  accuracy  precision    recall  f1_score\n",
      "0   Train/Test Split  0.969767   0.942675  0.973684  0.957929\n",
      "1  Stratified K-Fold  0.953467   0.950820  0.915789  0.932976\n"
     ]
    }
   ],
   "source": [
    "# Compare results of model fitting\n",
    "\n",
    "results_df = pd.DataFrame(metrics_list)\n",
    "print(results_df)"
   ]
  },
  {
   "cell_type": "markdown",
   "id": "4fe95b86",
   "metadata": {},
   "source": [
    "Summary, even though there is essentially no performance difference between cross validation types here we should use k-fold CV as the preffered method as it is expected to perform better than a standard test-train split on larger and more complex datasets and LOOCV is far too computationally expensive to scale well to other data."
   ]
  },
  {
   "cell_type": "code",
   "execution_count": 29,
   "id": "211403a3",
   "metadata": {},
   "outputs": [
    {
     "name": "stdout",
     "output_type": "stream",
     "text": [
      "                   Accuracy  Precision    Recall  F1 Score   ROC AUC\n",
      "Stratified K-Fold  0.953467    0.95082  0.915789  0.932976  0.948398\n"
     ]
    },
    {
     "data": {
      "image/png": "[encoded data removed]",
      "text/plain": [
       "<Figure size 600x500 with 1 Axes>"
      ]
     },
     "metadata": {},
     "output_type": "display_data"
    }
   ],
   "source": [
    "# Define your Stratified K-Fold object\n",
    "kfold = StratifiedKFold(n_splits=10, shuffle=True, random_state=49)\n",
    "\n",
    "# Initialize lists to store the aggregated true labels, predictions, and probabilities\n",
    "y_true_kf = []\n",
    "y_pred_kf = []\n",
    "y_proba_kf = []\n",
    "\n",
    "# Loop over each fold in the cross-validation\n",
    "for train_idx, test_idx in kfold.split(X, y):\n",
    "    # Train the classifier on the training split for the current fold\n",
    "    clf.fit(X.iloc[train_idx], y.iloc[train_idx])\n",
    "    \n",
    "    # Predict labels and probabilities on the test split of the current fold\n",
    "    pred = clf.predict(X.iloc[test_idx])\n",
    "    proba = clf.predict_proba(X.iloc[test_idx])[:, 1]  # probability values for ROC AUC\n",
    "    \n",
    "    # Aggregate the true labels, predicted labels, and probabilities\n",
    "    y_true_kf.extend(y.iloc[test_idx])\n",
    "    y_pred_kf.extend(pred)\n",
    "    y_proba_kf.extend(proba)\n",
    "\n",
    "# Compute the performance metrics using aggregated results\n",
    "metrics = {\n",
    "    'Accuracy': accuracy_score(y_true_kf, y_pred_kf),\n",
    "    'Precision': precision_score(y_true_kf, y_pred_kf),\n",
    "    'Recall': recall_score(y_true_kf, y_pred_kf),\n",
    "    'F1 Score': f1_score(y_true_kf, y_pred_kf),\n",
    "    'ROC AUC': roc_auc_score(y_true_kf, y_proba_kf)\n",
    "}\n",
    "\n",
    "# Convert metrics dictionary to a DataFrame for a nice display\n",
    "metrics_df = pd.DataFrame(metrics, index=['Stratified K-Fold'])\n",
    "print(metrics_df)\n",
    "\n",
    "# Compute the confusion matrix using the aggregated predictions\n",
    "cm = confusion_matrix(y_true_kf, y_pred_kf)\n",
    "labels = ['No Alzheimers', 'Alzheimers']\n",
    "\n",
    "# Plot the confusion matrix\n",
    "plt.figure(figsize=(6, 5))\n",
    "sns.heatmap(cm, annot=True, fmt='d', cmap='Blues', \n",
    "            xticklabels=labels, yticklabels=labels, cbar=False)\n",
    "plt.xlabel('Predicted Label')\n",
    "plt.ylabel('True Label')\n",
    "plt.title('Confusion Matrix - Stratified K-Fold')\n",
    "plt.tight_layout()\n",
    "plt.show()"
   ]
  },
  {
   "cell_type": "markdown",
   "id": "583edb98",
   "metadata": {},
   "source": []
  }
 ],
 "metadata": {
  "kernelspec": {
   "display_name": "Python 3",
   "language": "python",
   "name": "python3"
  },
  "language_info": {
   "codemirror_mode": {
    "name": "ipython",
    "version": 3
   },
   "file_extension": ".py",
   "mimetype": "text/x-python",
   "name": "python",
   "nbconvert_exporter": "python",
   "pygments_lexer": "ipython3",
   "version": "3.11.9"
  }
 },
 "nbformat": 4,
 "nbformat_minor": 5
}
