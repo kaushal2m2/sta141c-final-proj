{
 "cells": [
  {
   "cell_type": "code",
   "execution_count": 1,
   "id": "b619d40a",
   "metadata": {},
   "outputs": [],
   "source": [
    "# Import libraries and data\n",
    "\n",
    "import pandas as pd\n",
    "import numpy as np\n",
    "from sklearn.model_selection import train_test_split, GridSearchCV, cross_val_score, StratifiedKFold, LeaveOneOut\n",
    "from sklearn.neural_network import MLPClassifier\n",
    "from sklearn.metrics import accuracy_score, precision_score, recall_score, f1_score, confusion_matrix\n",
    "from sklearn.preprocessing import StandardScaler\n",
    "import seaborn as sns\n",
    "import matplotlib.pyplot as plt"
   ]
  },
  {
   "cell_type": "code",
   "execution_count": 2,
   "id": "9c310b04",
   "metadata": {},
   "outputs": [],
   "source": [
    "df = pd.read_csv('data/train.csv')\n",
    "test = pd.read_csv('data/test.csv')"
   ]
  },
  {
   "cell_type": "code",
   "execution_count": 3,
   "id": "7ca96231",
   "metadata": {},
   "outputs": [],
   "source": [
    "# Define function for model comparison\n",
    "\n",
    "def collect_metrics(y_true, y_pred, method_name):\n",
    "    return {\n",
    "        'method': method_name,\n",
    "        'accuracy': accuracy_score(y_true, y_pred),\n",
    "        'precision': precision_score(y_true, y_pred),\n",
    "        'recall': recall_score(y_true, y_pred),\n",
    "        'f1_score': f1_score(y_true, y_pred)\n",
    "    }"
   ]
  },
  {
   "cell_type": "code",
   "execution_count": null,
   "id": "be9a552e",
   "metadata": {},
   "outputs": [],
   "source": [
    "# Prepare data for model fitting\n",
    "\n",
    "X = df.drop('Diagnosis', axis=1)\n",
    "y = df['Diagnosis']\n",
    "\n",
    "# One-hot encoding\n",
    "X = pd.get_dummies(X, drop_first=True)\n",
    "\n",
    "# Feature scaling\n",
    "scaler = StandardScaler()\n",
    "X_scaled = scaler.fit_transform(X)"
   ]
  },
  {
   "cell_type": "code",
   "execution_count": 5,
   "id": "70f3da1c",
   "metadata": {},
   "outputs": [
    {
     "name": "stdout",
     "output_type": "stream",
     "text": [
      "Fitting 5 folds for each of 240 candidates, totalling 1200 fits\n",
      "Best Parameters: {'activation': 'tanh', 'alpha': 0.001, 'hidden_layer_sizes': (50,), 'learning_rate_init': 0.0001, 'max_iter': 5000, 'solver': 'adam'}\n",
      "Best F1 Score: 0.7597529742485215\n"
     ]
    }
   ],
   "source": [
    "# Hyper-parameter tuning using grid search\n",
    "\n",
    "# Define data pipeline and parameter grid\n",
    "param_grid = {\n",
    "    'hidden_layer_sizes': [\n",
    "        (50,), (100,), (150,),\n",
    "        (100, 50), (150, 75),\n",
    "        (100, 50, 25)\n",
    "    ],\n",
    "    'activation': ['relu', 'tanh'],\n",
    "    'alpha': [0.00001, 0.0001, 0.001, 0.01, 0.1],\n",
    "    'solver': ['adam'],\n",
    "    'learning_rate_init': [0.0001, 0.001, 0.01, 0.1],\n",
    "    'max_iter': [5000]\n",
    "}\n",
    "\n",
    "ann = MLPClassifier(random_state=49)\n",
    "\n",
    "grid_search = GridSearchCV(\n",
    "    ann,\n",
    "    param_grid,\n",
    "    cv=5,\n",
    "    scoring='f1',\n",
    "    n_jobs=-1,\n",
    "    verbose=1\n",
    ")\n",
    "\n",
    "grid_search.fit(X, y)\n",
    "\n",
    "# Use best estimator\n",
    "best_ann = grid_search.best_estimator_\n",
    "print(\"Best Parameters:\", grid_search.best_params_)\n",
    "print(\"Best F1 Score:\", grid_search.best_score_)"
   ]
  },
  {
   "cell_type": "code",
   "execution_count": 8,
   "id": "d40eadec",
   "metadata": {},
   "outputs": [
    {
     "name": "stdout",
     "output_type": "stream",
     "text": [
      "        method  accuracy  precision    recall  f1_score\n",
      "0  Final Train   0.99651   0.996700  0.993421  0.995058\n",
      "1   Final Test   0.80000   0.722973  0.703947  0.713333\n"
     ]
    },
    {
     "data": {
      "image/png": "[encoded data removed]",
      "text/plain": [
       "<Figure size 600x500 with 1 Axes>"
      ]
     },
     "metadata": {},
     "output_type": "display_data"
    }
   ],
   "source": [
    "# Stratified K-Fold cross-validation on the training set\n",
    "cv = StratifiedKFold(n_splits=5, shuffle=True, random_state=49)\n",
    "for train_idx, val_idx in cv.split(X_scaled, y):\n",
    "    X_tr, X_val = X_scaled[train_idx], X_scaled[val_idx]\n",
    "    y_tr, y_val = y.iloc[train_idx], y.iloc[val_idx]\n",
    "    best_ann.fit(X_tr, y_tr)\n",
    "    _ = best_ann.predict(X_val)\n",
    "\n",
    "X_test = test.drop('Diagnosis', axis=1)\n",
    "y_test = test['Diagnosis']\n",
    "\n",
    "# Perform one-hot encoding on the test set\n",
    "X_test = pd.get_dummies(X_test, drop_first=True)\n",
    "\n",
    "# Reindex the test set\n",
    "X_test = X_test.reindex(columns=X.columns, fill_value=0)\n",
    "\n",
    "# Scale the test data using the same scaler fitted on the training set\n",
    "X_test_scaled = scaler.transform(X_test)\n",
    "\n",
    "# Fit the final tuned model on the full training dataset\n",
    "best_ann.fit(X_scaled, y)\n",
    "\n",
    "# Generate predictions on the full training set and the test set\n",
    "y_train_pred_final = best_ann.predict(X_scaled)\n",
    "y_test_pred_final = best_ann.predict(X_test_scaled)\n",
    "\n",
    "# Collect performance metrics\n",
    "final_train_metrics = collect_metrics(y, y_train_pred_final, method_name=\"Final Train\")\n",
    "final_test_metrics  = collect_metrics(y_test, y_test_pred_final, method_name=\"Final Test\")\n",
    "\n",
    "# Combine final performance metrics\n",
    "results = [final_train_metrics, final_test_metrics]\n",
    "results_df = pd.DataFrame(results)\n",
    "print(results_df)\n",
    "\n",
    "# Compute the confusion matrix for the test predictions.\n",
    "cm = confusion_matrix(y_test, y_test_pred_final)\n",
    "\n",
    "# Define labels\n",
    "labels = ['No Diagnosis', 'Diagnosis']\n",
    "\n",
    "# Visualize the confusion matrix as a heatmap.\n",
    "plt.figure(figsize=(6, 5))\n",
    "sns.heatmap(cm, annot=True, fmt='d', cmap='Blues', \n",
    "            xticklabels=labels, yticklabels=labels, cbar=False)\n",
    "plt.xlabel('Predicted Label')\n",
    "plt.ylabel('True Label')\n",
    "plt.title('Confusion Matrix - Test Data')\n",
    "plt.tight_layout()\n",
    "plt.show()\n"
   ]
  },
  {
   "cell_type": "code",
   "execution_count": null,
   "id": "89c0df0a",
   "metadata": {},
   "outputs": [],
   "source": []
  }
 ],
 "metadata": {
  "kernelspec": {
   "display_name": "Python 3",
   "language": "python",
   "name": "python3"
  },
  "language_info": {
   "codemirror_mode": {
    "name": "ipython",
    "version": 3
   },
   "file_extension": ".py",
   "mimetype": "text/x-python",
   "name": "python",
   "nbconvert_exporter": "python",
   "pygments_lexer": "ipython3",
   "version": "3.11.9"
  }
 },
 "nbformat": 4,
 "nbformat_minor": 5
}
